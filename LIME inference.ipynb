{
 "cells": [
  {
   "cell_type": "code",
   "execution_count": 55,
   "id": "bab8c78e",
   "metadata": {},
   "outputs": [],
   "source": [
    "import argparse\n",
    "from argparse import RawTextHelpFormatter\n",
    "import glob\n",
    "from os import makedirs\n",
    "from os.path import join, exists, basename, splitext\n",
    "import cv2\n",
    "from tqdm import tqdm\n",
    "from exposure_enhancement import enhance_image_exposure"
   ]
  },
  {
   "cell_type": "code",
   "execution_count": 56,
   "id": "8c6a755c",
   "metadata": {},
   "outputs": [],
   "source": [
    "imdir = './../test_images/'\n",
    "ext = ['png', 'jpg', 'bmp']    # Add image formats here\n",
    "files = []\n",
    "[files.extend(glob.glob(imdir + '*.' + e)) for e in ext]\n",
    "images = [cv2.imread(file) for file in files]\n",
    "\n",
    "# create save directory\n",
    "directory = join(imdir, \"enhanced\")\n",
    "if not exists(directory):\n",
    "    makedirs(directory)"
   ]
  },
  {
   "cell_type": "code",
   "execution_count": 57,
   "id": "95ab0de7",
   "metadata": {},
   "outputs": [],
   "source": [
    "GAMMA = 0.6 # the gamma correction parameter\n",
    "LAMBDA =  0.15 # the weight for balancing the two terms in the illumination refinement optimization objective\n",
    "LIME = True # Use the LIME method. By default, the DUAL method is used\n",
    "SIGMA = 3 # Spatial standard deviation for spatial affinity based Gaussian weights\n",
    "BC = 1 # parameter for controlling the influence of Mertens's contrast measure\n",
    "BS = 1 # parameter for controlling the influence of Mertens's saturation measure\n",
    "BE = 1 # parameter for controlling the influence of Mertens's well exposedness measure\n",
    "EPS = 1e-3 # constant to avoid computation instability"
   ]
  },
  {
   "cell_type": "code",
   "execution_count": 58,
   "id": "6eb11d3a",
   "metadata": {},
   "outputs": [
    {
     "name": "stderr",
     "output_type": "stream",
     "text": [
      "Enhancing images: 18it [00:00, 20815.40it/s]"
     ]
    },
    {
     "name": "stdout",
     "output_type": "stream",
     "text": [
      "$./../test_images/enhanced\\10001.png exists\n",
      "$./../test_images/enhanced\\1771.png exists\n",
      "$./../test_images/enhanced\\1773.png exists\n",
      "$./../test_images/enhanced\\1783.png exists\n",
      "$./../test_images/enhanced\\3628.png exists\n",
      "$./../test_images/enhanced\\3633.png exists\n",
      "$./../test_images/enhanced\\3639.png exists\n",
      "$./../test_images/enhanced\\5278.png exists\n",
      "$./../test_images/enhanced\\5285.png exists\n",
      "$./../test_images/enhanced\\5289.png exists\n",
      "$./../test_images/enhanced\\694.png exists\n",
      "$./../test_images/enhanced\\701.png exists\n",
      "$./../test_images/enhanced\\7199.png exists\n",
      "$./../test_images/enhanced\\806.png exists\n",
      "$./../test_images/enhanced\\979.png exists\n",
      "$./../test_images/enhanced\\9988.png exists\n",
      "$./../test_images/enhanced\\9990.png exists\n",
      "$./../test_images/enhanced\\9991.png exists\n"
     ]
    },
    {
     "name": "stderr",
     "output_type": "stream",
     "text": [
      "\n"
     ]
    }
   ],
   "source": [
    "# enhance images\n",
    "saved_paths = []\n",
    "for i, image in tqdm(enumerate(images), desc=\"Enhancing images\"):\n",
    "    filename = basename(files[i])\n",
    "    name, ext = splitext(filename)\n",
    "    save_path = join(directory, name) + ext\n",
    "    if exists(save_path):\n",
    "        print(f\"${save_path} exists\")\n",
    "    else:\n",
    "        enhanced_image = enhance_image_exposure(image, GAMMA, LAMBDA, not LIME,\n",
    "                                                sigma=SIGMA, bc=BC, bs=BS, be=BE, eps=EPS)\n",
    "        cv2.imwrite(save_path, enhanced_image)\n",
    "        print(f\"Finished enhancing: ${save_path}\")\n",
    "    saved_paths.append(save_path)"
   ]
  }
 ],
 "metadata": {
  "kernelspec": {
   "display_name": "Python 3 (ipykernel)",
   "language": "python",
   "name": "python3"
  },
  "language_info": {
   "codemirror_mode": {
    "name": "ipython",
    "version": 3
   },
   "file_extension": ".py",
   "mimetype": "text/x-python",
   "name": "python",
   "nbconvert_exporter": "python",
   "pygments_lexer": "ipython3",
   "version": "3.10.9"
  }
 },
 "nbformat": 4,
 "nbformat_minor": 5
}
